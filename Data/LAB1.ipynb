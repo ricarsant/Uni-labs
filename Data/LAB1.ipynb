{
 "cells": [
  {
   "cell_type": "code",
   "execution_count": 19,
   "metadata": {},
   "outputs": [],
   "source": [
    "import pandas as pd\n",
    "import numpy as np\n",
    "import csv"
   ]
  },
  {
   "cell_type": "code",
   "execution_count": 73,
   "metadata": {},
   "outputs": [
    {
     "name": "stderr",
     "output_type": "stream",
     "text": [
      "C:\\Users\\rsantacruz\\Anaconda3\\lib\\site-packages\\IPython\\core\\interactiveshell.py:3057: DtypeWarning: Columns (7) have mixed types. Specify dtype option on import or set low_memory=False.\n",
      "  interactivity=interactivity, compiler=compiler, result=result)\n"
     ]
    },
    {
     "data": {
      "text/html": [
       "<div>\n",
       "<style scoped>\n",
       "    .dataframe tbody tr th:only-of-type {\n",
       "        vertical-align: middle;\n",
       "    }\n",
       "\n",
       "    .dataframe tbody tr th {\n",
       "        vertical-align: top;\n",
       "    }\n",
       "\n",
       "    .dataframe thead th {\n",
       "        text-align: right;\n",
       "    }\n",
       "</style>\n",
       "<table border=\"1\" class=\"dataframe\">\n",
       "  <thead>\n",
       "    <tr style=\"text-align: right;\">\n",
       "      <th></th>\n",
       "      <th>id</th>\n",
       "      <th>budget</th>\n",
       "      <th>genres</th>\n",
       "      <th>imdb_id</th>\n",
       "      <th>original_language</th>\n",
       "      <th>original_title</th>\n",
       "      <th>overview</th>\n",
       "      <th>popularity</th>\n",
       "      <th>production_companies</th>\n",
       "      <th>production_countries</th>\n",
       "      <th>...</th>\n",
       "      <th>runtime</th>\n",
       "      <th>spoken_languages</th>\n",
       "      <th>status</th>\n",
       "      <th>tagline</th>\n",
       "      <th>title</th>\n",
       "      <th>vote_average</th>\n",
       "      <th>vote_count</th>\n",
       "      <th>production_companies_number</th>\n",
       "      <th>production_countries_number</th>\n",
       "      <th>spoken_languages_number</th>\n",
       "    </tr>\n",
       "  </thead>\n",
       "  <tbody>\n",
       "    <tr>\n",
       "      <th>0</th>\n",
       "      <td>2</td>\n",
       "      <td>0</td>\n",
       "      <td>Drama|Crime</td>\n",
       "      <td>tt0094675</td>\n",
       "      <td>fi</td>\n",
       "      <td>Ariel</td>\n",
       "      <td>Taisto Kasurinen is a Finnish coal miner whose...</td>\n",
       "      <td>0.823904</td>\n",
       "      <td>Villealfa Filmproduction Oy</td>\n",
       "      <td>Finland</td>\n",
       "      <td>...</td>\n",
       "      <td>69.0</td>\n",
       "      <td>suomi</td>\n",
       "      <td>Released</td>\n",
       "      <td>NaN</td>\n",
       "      <td>Ariel</td>\n",
       "      <td>7.1</td>\n",
       "      <td>40</td>\n",
       "      <td>2</td>\n",
       "      <td>1</td>\n",
       "      <td>2</td>\n",
       "    </tr>\n",
       "    <tr>\n",
       "      <th>1</th>\n",
       "      <td>3</td>\n",
       "      <td>0</td>\n",
       "      <td>Drama|Comedy</td>\n",
       "      <td>tt0092149</td>\n",
       "      <td>fi</td>\n",
       "      <td>Varjoja paratiisissa</td>\n",
       "      <td>An episode in the life of Nikander, a garbage ...</td>\n",
       "      <td>0.47445</td>\n",
       "      <td>Villealfa Filmproduction Oy</td>\n",
       "      <td>Finland</td>\n",
       "      <td>...</td>\n",
       "      <td>76.0</td>\n",
       "      <td>English</td>\n",
       "      <td>Released</td>\n",
       "      <td>NaN</td>\n",
       "      <td>Shadows in Paradise</td>\n",
       "      <td>7.0</td>\n",
       "      <td>32</td>\n",
       "      <td>1</td>\n",
       "      <td>1</td>\n",
       "      <td>3</td>\n",
       "    </tr>\n",
       "    <tr>\n",
       "      <th>2</th>\n",
       "      <td>5</td>\n",
       "      <td>4000000</td>\n",
       "      <td>Crime|Comedy</td>\n",
       "      <td>tt0113101</td>\n",
       "      <td>en</td>\n",
       "      <td>Four Rooms</td>\n",
       "      <td>It's Ted the Bellhop's first night on the job....</td>\n",
       "      <td>1.698</td>\n",
       "      <td>Miramax Films</td>\n",
       "      <td>United States of America</td>\n",
       "      <td>...</td>\n",
       "      <td>98.0</td>\n",
       "      <td>English</td>\n",
       "      <td>Released</td>\n",
       "      <td>Twelve outrageous guests. Four scandalous requ...</td>\n",
       "      <td>Four Rooms</td>\n",
       "      <td>6.5</td>\n",
       "      <td>485</td>\n",
       "      <td>2</td>\n",
       "      <td>1</td>\n",
       "      <td>1</td>\n",
       "    </tr>\n",
       "    <tr>\n",
       "      <th>3</th>\n",
       "      <td>6</td>\n",
       "      <td>0</td>\n",
       "      <td>Action|Thriller|Crime</td>\n",
       "      <td>tt0107286</td>\n",
       "      <td>en</td>\n",
       "      <td>Judgment Night</td>\n",
       "      <td>While racing to a boxing match, Frank, Mike, J...</td>\n",
       "      <td>1.32287</td>\n",
       "      <td>Universal Pictures</td>\n",
       "      <td>Japan</td>\n",
       "      <td>...</td>\n",
       "      <td>110.0</td>\n",
       "      <td>English</td>\n",
       "      <td>Released</td>\n",
       "      <td>Don't move. Don't whisper. Don't even breathe.</td>\n",
       "      <td>Judgment Night</td>\n",
       "      <td>6.5</td>\n",
       "      <td>69</td>\n",
       "      <td>3</td>\n",
       "      <td>2</td>\n",
       "      <td>1</td>\n",
       "    </tr>\n",
       "    <tr>\n",
       "      <th>4</th>\n",
       "      <td>8</td>\n",
       "      <td>42000</td>\n",
       "      <td>Documentary</td>\n",
       "      <td>tt0825671</td>\n",
       "      <td>en</td>\n",
       "      <td>Life in Loops (A Megacities RMX)</td>\n",
       "      <td>Timo Novotny labels his new project an experim...</td>\n",
       "      <td>0.054716</td>\n",
       "      <td>inLoops</td>\n",
       "      <td>Austria</td>\n",
       "      <td>...</td>\n",
       "      <td>80.0</td>\n",
       "      <td>English</td>\n",
       "      <td>Released</td>\n",
       "      <td>A Megacities remix.</td>\n",
       "      <td>Life in Loops (A Megacities RMX)</td>\n",
       "      <td>6.4</td>\n",
       "      <td>4</td>\n",
       "      <td>1</td>\n",
       "      <td>1</td>\n",
       "      <td>5</td>\n",
       "    </tr>\n",
       "  </tbody>\n",
       "</table>\n",
       "<p>5 rows × 22 columns</p>\n",
       "</div>"
      ],
      "text/plain": [
       "   id   budget                 genres    imdb_id original_language  \\\n",
       "0   2        0            Drama|Crime  tt0094675                fi   \n",
       "1   3        0           Drama|Comedy  tt0092149                fi   \n",
       "2   5  4000000           Crime|Comedy  tt0113101                en   \n",
       "3   6        0  Action|Thriller|Crime  tt0107286                en   \n",
       "4   8    42000            Documentary  tt0825671                en   \n",
       "\n",
       "                     original_title  \\\n",
       "0                             Ariel   \n",
       "1              Varjoja paratiisissa   \n",
       "2                        Four Rooms   \n",
       "3                    Judgment Night   \n",
       "4  Life in Loops (A Megacities RMX)   \n",
       "\n",
       "                                            overview popularity  \\\n",
       "0  Taisto Kasurinen is a Finnish coal miner whose...   0.823904   \n",
       "1  An episode in the life of Nikander, a garbage ...    0.47445   \n",
       "2  It's Ted the Bellhop's first night on the job....      1.698   \n",
       "3  While racing to a boxing match, Frank, Mike, J...    1.32287   \n",
       "4  Timo Novotny labels his new project an experim...   0.054716   \n",
       "\n",
       "          production_companies      production_countries  ... runtime  \\\n",
       "0  Villealfa Filmproduction Oy                   Finland  ...    69.0   \n",
       "1  Villealfa Filmproduction Oy                   Finland  ...    76.0   \n",
       "2                Miramax Films  United States of America  ...    98.0   \n",
       "3           Universal Pictures                     Japan  ...   110.0   \n",
       "4                      inLoops                   Austria  ...    80.0   \n",
       "\n",
       "   spoken_languages    status  \\\n",
       "0             suomi  Released   \n",
       "1           English  Released   \n",
       "2           English  Released   \n",
       "3           English  Released   \n",
       "4           English  Released   \n",
       "\n",
       "                                             tagline  \\\n",
       "0                                                NaN   \n",
       "1                                                NaN   \n",
       "2  Twelve outrageous guests. Four scandalous requ...   \n",
       "3     Don't move. Don't whisper. Don't even breathe.   \n",
       "4                                A Megacities remix.   \n",
       "\n",
       "                              title vote_average vote_count  \\\n",
       "0                             Ariel          7.1         40   \n",
       "1               Shadows in Paradise          7.0         32   \n",
       "2                        Four Rooms          6.5        485   \n",
       "3                    Judgment Night          6.5         69   \n",
       "4  Life in Loops (A Megacities RMX)          6.4          4   \n",
       "\n",
       "   production_companies_number  production_countries_number  \\\n",
       "0                            2                            1   \n",
       "1                            1                            1   \n",
       "2                            2                            1   \n",
       "3                            3                            2   \n",
       "4                            1                            1   \n",
       "\n",
       "   spoken_languages_number  \n",
       "0                        2  \n",
       "1                        3  \n",
       "2                        1  \n",
       "3                        1  \n",
       "4                        5  \n",
       "\n",
       "[5 rows x 22 columns]"
      ]
     },
     "execution_count": 73,
     "metadata": {},
     "output_type": "execute_result"
    }
   ],
   "source": [
    "fulldata =  pd.read_csv(\"AllMoviesDetailsCleaned.csv\",sep =\";\") \n",
    "fulldata.head()"
   ]
  },
  {
   "cell_type": "code",
   "execution_count": 74,
   "metadata": {},
   "outputs": [
    {
     "data": {
      "text/plain": [
       "0              2\n",
       "1              3\n",
       "2              5\n",
       "3              6\n",
       "4              8\n",
       "5              9\n",
       "6             11\n",
       "7             12\n",
       "8             13\n",
       "9             14\n",
       "10            15\n",
       "11            16\n",
       "12            17\n",
       "13            18\n",
       "14            19\n",
       "15            20\n",
       "16            21\n",
       "17            22\n",
       "18            24\n",
       "19            25\n",
       "20            26\n",
       "21            27\n",
       "22            28\n",
       "23            30\n",
       "24            31\n",
       "25            32\n",
       "26            33\n",
       "27            35\n",
       "28            38\n",
       "29            55\n",
       "           ...  \n",
       "329014    469189\n",
       "329015    469190\n",
       "329016    469191\n",
       "329017    469192\n",
       "329018    469193\n",
       "329019    469194\n",
       "329020    469195\n",
       "329021    469197\n",
       "329022    469198\n",
       "329023    469199\n",
       "329024    469200\n",
       "329025    469201\n",
       "329026    469202\n",
       "329027    469203\n",
       "329028    469204\n",
       "329029    469205\n",
       "329030    469206\n",
       "329031    469207\n",
       "329032    469208\n",
       "329033    469209\n",
       "329034    469210\n",
       "329035    469211\n",
       "329036    469212\n",
       "329037    469213\n",
       "329038    469214\n",
       "329039    469215\n",
       "329040    469216\n",
       "329041    469217\n",
       "329042    469218\n",
       "329043    469219\n",
       "Name: id, Length: 329044, dtype: int64"
      ]
     },
     "execution_count": 74,
     "metadata": {},
     "output_type": "execute_result"
    }
   ],
   "source": [
    "fulldata[\"id\"]"
   ]
  },
  {
   "cell_type": "code",
   "execution_count": 16,
   "metadata": {},
   "outputs": [
    {
     "data": {
      "text/html": [
       "<div>\n",
       "<style scoped>\n",
       "    .dataframe tbody tr th:only-of-type {\n",
       "        vertical-align: middle;\n",
       "    }\n",
       "\n",
       "    .dataframe tbody tr th {\n",
       "        vertical-align: top;\n",
       "    }\n",
       "\n",
       "    .dataframe thead th {\n",
       "        text-align: right;\n",
       "    }\n",
       "</style>\n",
       "<table border=\"1\" class=\"dataframe\">\n",
       "  <thead>\n",
       "    <tr style=\"text-align: right;\">\n",
       "      <th></th>\n",
       "      <th>id</th>\n",
       "      <th>budget</th>\n",
       "      <th>genres</th>\n",
       "      <th>imdb_id</th>\n",
       "      <th>original_language</th>\n",
       "      <th>original_title</th>\n",
       "      <th>overview</th>\n",
       "      <th>popularity</th>\n",
       "      <th>production_companies</th>\n",
       "      <th>production_countries</th>\n",
       "      <th>...</th>\n",
       "      <th>runtime</th>\n",
       "      <th>spoken_languages</th>\n",
       "      <th>status</th>\n",
       "      <th>tagline</th>\n",
       "      <th>title</th>\n",
       "      <th>vote_average</th>\n",
       "      <th>vote_count</th>\n",
       "      <th>production_companies_number</th>\n",
       "      <th>production_countries_number</th>\n",
       "      <th>spoken_languages_number</th>\n",
       "    </tr>\n",
       "  </thead>\n",
       "  <tbody>\n",
       "    <tr>\n",
       "      <th>0</th>\n",
       "      <td>2</td>\n",
       "      <td>0</td>\n",
       "      <td>Drama|Crime</td>\n",
       "      <td>tt0094675</td>\n",
       "      <td>fi</td>\n",
       "      <td>Ariel</td>\n",
       "      <td>Taisto Kasurinen is a Finnish coal miner whose...</td>\n",
       "      <td>0.823904</td>\n",
       "      <td>Villealfa Filmproduction Oy</td>\n",
       "      <td>Finland</td>\n",
       "      <td>...</td>\n",
       "      <td>69</td>\n",
       "      <td>suomi</td>\n",
       "      <td>Released</td>\n",
       "      <td>NaN</td>\n",
       "      <td>Ariel</td>\n",
       "      <td>7.1</td>\n",
       "      <td>40</td>\n",
       "      <td>2</td>\n",
       "      <td>1</td>\n",
       "      <td>2</td>\n",
       "    </tr>\n",
       "    <tr>\n",
       "      <th>1</th>\n",
       "      <td>3</td>\n",
       "      <td>0</td>\n",
       "      <td>Drama|Comedy</td>\n",
       "      <td>tt0092149</td>\n",
       "      <td>fi</td>\n",
       "      <td>Varjoja paratiisissa</td>\n",
       "      <td>An episode in the life of Nikander, a garbage ...</td>\n",
       "      <td>0.47445</td>\n",
       "      <td>Villealfa Filmproduction Oy</td>\n",
       "      <td>Finland</td>\n",
       "      <td>...</td>\n",
       "      <td>76</td>\n",
       "      <td>English</td>\n",
       "      <td>Released</td>\n",
       "      <td>NaN</td>\n",
       "      <td>Shadows in Paradise</td>\n",
       "      <td>7.0</td>\n",
       "      <td>32</td>\n",
       "      <td>1</td>\n",
       "      <td>1</td>\n",
       "      <td>3</td>\n",
       "    </tr>\n",
       "  </tbody>\n",
       "</table>\n",
       "<p>2 rows × 22 columns</p>\n",
       "</div>"
      ],
      "text/plain": [
       "   id  budget        genres    imdb_id original_language  \\\n",
       "0   2       0   Drama|Crime  tt0094675                fi   \n",
       "1   3       0  Drama|Comedy  tt0092149                fi   \n",
       "\n",
       "         original_title                                           overview  \\\n",
       "0                 Ariel  Taisto Kasurinen is a Finnish coal miner whose...   \n",
       "1  Varjoja paratiisissa  An episode in the life of Nikander, a garbage ...   \n",
       "\n",
       "  popularity         production_companies production_countries  ... runtime  \\\n",
       "0   0.823904  Villealfa Filmproduction Oy              Finland  ...      69   \n",
       "1    0.47445  Villealfa Filmproduction Oy              Finland  ...      76   \n",
       "\n",
       "   spoken_languages    status tagline                title vote_average  \\\n",
       "0             suomi  Released     NaN                Ariel          7.1   \n",
       "1           English  Released     NaN  Shadows in Paradise          7.0   \n",
       "\n",
       "  vote_count  production_companies_number  production_countries_number  \\\n",
       "0         40                            2                            1   \n",
       "1         32                            1                            1   \n",
       "\n",
       "   spoken_languages_number  \n",
       "0                        2  \n",
       "1                        3  \n",
       "\n",
       "[2 rows x 22 columns]"
      ]
     },
     "execution_count": 16,
     "metadata": {},
     "output_type": "execute_result"
    }
   ],
   "source": [
    "archivo1 = \"1-Small-MoviesDetailsCleaned.csv\"\n",
    "archivo2 = \"2-Small-MoviesCastingRaw-small.csv\"\n",
    "\n",
    "moviesDetails = pd.read_csv(archivo1,sep =\";\")\n",
    "moviesCasting = pd.read_csv(archivo2,sep =\";\")\n",
    "\n",
    "\n",
    "\n",
    "moviesDetails.head(2)"
   ]
  },
  {
   "cell_type": "code",
   "execution_count": 14,
   "metadata": {},
   "outputs": [
    {
     "data": {
      "text/html": [
       "<div>\n",
       "<style scoped>\n",
       "    .dataframe tbody tr th:only-of-type {\n",
       "        vertical-align: middle;\n",
       "    }\n",
       "\n",
       "    .dataframe tbody tr th {\n",
       "        vertical-align: top;\n",
       "    }\n",
       "\n",
       "    .dataframe thead th {\n",
       "        text-align: right;\n",
       "    }\n",
       "</style>\n",
       "<table border=\"1\" class=\"dataframe\">\n",
       "  <thead>\n",
       "    <tr style=\"text-align: right;\">\n",
       "      <th></th>\n",
       "      <th>id</th>\n",
       "      <th>actor1_name</th>\n",
       "      <th>actor1_gender</th>\n",
       "      <th>actor2_name</th>\n",
       "      <th>actor2_gender</th>\n",
       "      <th>actor3_name</th>\n",
       "      <th>actor3_gender</th>\n",
       "      <th>actor4_name</th>\n",
       "      <th>actor4_gender</th>\n",
       "      <th>actor5_name</th>\n",
       "      <th>actor5_gender</th>\n",
       "      <th>actor_number</th>\n",
       "      <th>director_name</th>\n",
       "      <th>director_gender</th>\n",
       "      <th>director_number</th>\n",
       "      <th>producer_name</th>\n",
       "      <th>producer_number</th>\n",
       "      <th>screeplay_name</th>\n",
       "      <th>editor_name</th>\n",
       "    </tr>\n",
       "  </thead>\n",
       "  <tbody>\n",
       "    <tr>\n",
       "      <th>0</th>\n",
       "      <td>2</td>\n",
       "      <td>Turo Pajala</td>\n",
       "      <td>0</td>\n",
       "      <td>Susanna Haavisto</td>\n",
       "      <td>0</td>\n",
       "      <td>Matti Pellonpää</td>\n",
       "      <td>2</td>\n",
       "      <td>Eetu Hilkamo</td>\n",
       "      <td>0</td>\n",
       "      <td>none</td>\n",
       "      <td>0</td>\n",
       "      <td>4</td>\n",
       "      <td>Aki Kaurismäki</td>\n",
       "      <td>0</td>\n",
       "      <td>1</td>\n",
       "      <td>none</td>\n",
       "      <td>0</td>\n",
       "      <td>Aki Kaurismäki</td>\n",
       "      <td>Raija Talvio</td>\n",
       "    </tr>\n",
       "    <tr>\n",
       "      <th>1</th>\n",
       "      <td>3</td>\n",
       "      <td>Matti Pellonpää</td>\n",
       "      <td>2</td>\n",
       "      <td>Kati Outinen</td>\n",
       "      <td>1</td>\n",
       "      <td>Sakari Kuosmanen</td>\n",
       "      <td>2</td>\n",
       "      <td>Esko Nikkari</td>\n",
       "      <td>2</td>\n",
       "      <td>Kylli Köngäs</td>\n",
       "      <td>0</td>\n",
       "      <td>7</td>\n",
       "      <td>Aki Kaurismäki</td>\n",
       "      <td>0</td>\n",
       "      <td>1</td>\n",
       "      <td>Mika Kaurismäki</td>\n",
       "      <td>1</td>\n",
       "      <td>Aki Kaurismäki</td>\n",
       "      <td>Raija Talvio</td>\n",
       "    </tr>\n",
       "    <tr>\n",
       "      <th>2</th>\n",
       "      <td>5</td>\n",
       "      <td>Tim Roth</td>\n",
       "      <td>2</td>\n",
       "      <td>Antonio Banderas</td>\n",
       "      <td>2</td>\n",
       "      <td>Jennifer Beals</td>\n",
       "      <td>1</td>\n",
       "      <td>Madonna</td>\n",
       "      <td>1</td>\n",
       "      <td>Marisa Tomei</td>\n",
       "      <td>1</td>\n",
       "      <td>24</td>\n",
       "      <td>Allison Anders</td>\n",
       "      <td>1</td>\n",
       "      <td>4</td>\n",
       "      <td>Lawrence Bender</td>\n",
       "      <td>1</td>\n",
       "      <td>none</td>\n",
       "      <td>Margaret Goodspeed</td>\n",
       "    </tr>\n",
       "    <tr>\n",
       "      <th>3</th>\n",
       "      <td>6</td>\n",
       "      <td>Emilio Estevez</td>\n",
       "      <td>2</td>\n",
       "      <td>Cuba Gooding Jr.</td>\n",
       "      <td>2</td>\n",
       "      <td>Denis Leary</td>\n",
       "      <td>2</td>\n",
       "      <td>Jeremy Piven</td>\n",
       "      <td>2</td>\n",
       "      <td>Peter Greene</td>\n",
       "      <td>2</td>\n",
       "      <td>15</td>\n",
       "      <td>Stephen Hopkins</td>\n",
       "      <td>2</td>\n",
       "      <td>1</td>\n",
       "      <td>Gene Levy</td>\n",
       "      <td>1</td>\n",
       "      <td>Lewis Colick</td>\n",
       "      <td>Tim Wellburn</td>\n",
       "    </tr>\n",
       "    <tr>\n",
       "      <th>4</th>\n",
       "      <td>8</td>\n",
       "      <td>none</td>\n",
       "      <td>0</td>\n",
       "      <td>none</td>\n",
       "      <td>0</td>\n",
       "      <td>none</td>\n",
       "      <td>0</td>\n",
       "      <td>none</td>\n",
       "      <td>0</td>\n",
       "      <td>none</td>\n",
       "      <td>0</td>\n",
       "      <td>0</td>\n",
       "      <td>Timo Novotny</td>\n",
       "      <td>0</td>\n",
       "      <td>1</td>\n",
       "      <td>Timo Novotny</td>\n",
       "      <td>2</td>\n",
       "      <td>Michael Glawogger</td>\n",
       "      <td>Timo Novotny</td>\n",
       "    </tr>\n",
       "  </tbody>\n",
       "</table>\n",
       "</div>"
      ],
      "text/plain": [
       "   id      actor1_name  actor1_gender       actor2_name  actor2_gender  \\\n",
       "0   2      Turo Pajala              0  Susanna Haavisto              0   \n",
       "1   3  Matti Pellonpää              2      Kati Outinen              1   \n",
       "2   5         Tim Roth              2  Antonio Banderas              2   \n",
       "3   6   Emilio Estevez              2  Cuba Gooding Jr.              2   \n",
       "4   8             none              0              none              0   \n",
       "\n",
       "        actor3_name  actor3_gender   actor4_name  actor4_gender   actor5_name  \\\n",
       "0   Matti Pellonpää              2  Eetu Hilkamo              0          none   \n",
       "1  Sakari Kuosmanen              2  Esko Nikkari              2  Kylli Köngäs   \n",
       "2    Jennifer Beals              1       Madonna              1  Marisa Tomei   \n",
       "3       Denis Leary              2  Jeremy Piven              2  Peter Greene   \n",
       "4              none              0          none              0          none   \n",
       "\n",
       "   actor5_gender  actor_number    director_name  director_gender  \\\n",
       "0              0             4   Aki Kaurismäki                0   \n",
       "1              0             7   Aki Kaurismäki                0   \n",
       "2              1            24   Allison Anders                1   \n",
       "3              2            15  Stephen Hopkins                2   \n",
       "4              0             0     Timo Novotny                0   \n",
       "\n",
       "   director_number    producer_name  producer_number     screeplay_name  \\\n",
       "0                1             none                0     Aki Kaurismäki   \n",
       "1                1  Mika Kaurismäki                1     Aki Kaurismäki   \n",
       "2                4  Lawrence Bender                1               none   \n",
       "3                1        Gene Levy                1       Lewis Colick   \n",
       "4                1     Timo Novotny                2  Michael Glawogger   \n",
       "\n",
       "          editor_name  \n",
       "0        Raija Talvio  \n",
       "1        Raija Talvio  \n",
       "2  Margaret Goodspeed  \n",
       "3        Tim Wellburn  \n",
       "4        Timo Novotny  "
      ]
     },
     "execution_count": 14,
     "metadata": {},
     "output_type": "execute_result"
    }
   ],
   "source": [
    "moviesCasting.head()"
   ]
  },
  {
   "cell_type": "code",
   "execution_count": 25,
   "metadata": {},
   "outputs": [
    {
     "name": "stdout",
     "output_type": "stream",
     "text": [
      "llliisiis row... OrderedDict([('id', '1'), ('nombre', 'Pedro Perez'), ('telefono', '123'), ('empresa', 'Los Alpes')])\n",
      "llliisiis row... OrderedDict([('id', '2'), ('nombre', 'Juan Pedro Rodriguez'), ('telefono', 'Los Montes'), ('empresa', None)])\n",
      "llliisiis row... OrderedDict([('id', '3'), ('nombre', 'Juana Rangel'), ('telefono', 'Las Sierras'), ('empresa', None)])\n",
      "llliisiis row... OrderedDict([('id', '4'), ('nombre', 'Ana Hernandez'), ('telefono', 'Los Cerros'), ('empresa', None)])\n"
     ]
    },
    {
     "data": {
      "text/plain": [
       "[OrderedDict([('id', '1'),\n",
       "              ('nombre', 'Pedro Perez'),\n",
       "              ('telefono', '123'),\n",
       "              ('empresa', 'Los Alpes')]),\n",
       " OrderedDict([('id', '2'),\n",
       "              ('nombre', 'Juan Pedro Rodriguez'),\n",
       "              ('telefono', 'Los Montes'),\n",
       "              ('empresa', None)]),\n",
       " OrderedDict([('id', '3'),\n",
       "              ('nombre', 'Juana Rangel'),\n",
       "              ('telefono', 'Las Sierras'),\n",
       "              ('empresa', None)]),\n",
       " OrderedDict([('id', '4'),\n",
       "              ('nombre', 'Ana Hernandez'),\n",
       "              ('telefono', 'Los Cerros'),\n",
       "              ('empresa', None)])]"
      ]
     },
     "execution_count": 25,
     "metadata": {},
     "output_type": "execute_result"
    }
   ],
   "source": [
    "lst =[]\n",
    "dialect = csv.excel()\n",
    "dialect.delimiter=\";\"\n",
    "file =\"test.csv\"\n",
    "try:\n",
    "    with open(file, encoding=\"utf-8\") as csvfile:\n",
    "        spamreader = csv.DictReader(csvfile, dialect=dialect)\n",
    "        for row in spamreader:\n",
    "            print(\"llliisiis row...\", row )\n",
    "            lst.append(row)\n",
    "except:\n",
    "    del lst[:]\n",
    "    print(\"Se forpresento un error en la carga del archivo\")\n",
    "\n",
    "lst"
   ]
  },
  {
   "cell_type": "code",
   "execution_count": 24,
   "metadata": {},
   "outputs": [
    {
     "name": "stdout",
     "output_type": "stream",
     "text": [
      "llliisiis row... OrderedDict([('id', '1'), ('nombre', 'Pedro Perez'), ('telefono', '123'), ('empresa', 'Los Alpes')])\n",
      "llliisiis row... OrderedDict([('id', '2'), ('nombre', 'Juan Pedro Rodriguez'), ('telefono', 'Los Montes'), ('empresa', None)])\n",
      "llliisiis row... OrderedDict([('id', '3'), ('nombre', 'Juana Rangel'), ('telefono', 'Las Sierras'), ('empresa', None)])\n",
      "llliisiis row... OrderedDict([('id', '4'), ('nombre', 'Ana Hernandez'), ('telefono', 'Los Cerros'), ('empresa', None)])\n"
     ]
    },
    {
     "data": {
      "text/plain": [
       "[OrderedDict([('id', '1'),\n",
       "              ('nombre', 'Pedro Perez'),\n",
       "              ('telefono', '123'),\n",
       "              ('empresa', 'Los Alpes')]),\n",
       " OrderedDict([('id', '2'),\n",
       "              ('nombre', 'Juan Pedro Rodriguez'),\n",
       "              ('telefono', 'Los Montes'),\n",
       "              ('empresa', None)]),\n",
       " OrderedDict([('id', '3'),\n",
       "              ('nombre', 'Juana Rangel'),\n",
       "              ('telefono', 'Las Sierras'),\n",
       "              ('empresa', None)]),\n",
       " OrderedDict([('id', '4'),\n",
       "              ('nombre', 'Ana Hernandez'),\n",
       "              ('telefono', 'Los Cerros'),\n",
       "              ('empresa', None)])]"
      ]
     },
     "execution_count": 24,
     "metadata": {},
     "output_type": "execute_result"
    }
   ],
   "source": [
    "dialect = csv.excel()\n",
    "dialect.delimiter=\";\"\n",
    "file =\"test.csv\"\n",
    "with open(file, encoding=\"utf-8\") as csvfile:\n",
    "    spamreader = csv.DictReader(csvfile, dialect=dialect)\n",
    "    for row in spamreader:\n",
    "        print(\"llliisiis row...\", row )\n",
    "        lst.append(row)\n",
    "lst"
   ]
  },
  {
   "cell_type": "code",
   "execution_count": 41,
   "metadata": {},
   "outputs": [
    {
     "name": "stdout",
     "output_type": "stream",
     "text": [
      "Pedro Perez\n",
      "<class 'collections.OrderedDict'>\n",
      "Juan Pedro Rodriguez\n",
      "<class 'collections.OrderedDict'>\n",
      "Juana Rangel\n",
      "<class 'collections.OrderedDict'>\n",
      "Ana Hernandez\n",
      "<class 'collections.OrderedDict'>\n"
     ]
    }
   ],
   "source": [
    "for ele in lst:\n",
    "    print(ele['nombre'])\n",
    "    print(type(ele))"
   ]
  },
  {
   "cell_type": "code",
   "execution_count": 32,
   "metadata": {},
   "outputs": [
    {
     "data": {
      "text/plain": [
       "1"
      ]
     },
     "execution_count": 32,
     "metadata": {},
     "output_type": "execute_result"
    }
   ],
   "source": [
    "criteria = \"123\"\n",
    "column = \"telefono\"\n",
    "counter = 0\n",
    "for element in lst:\n",
    "    if criteria.lower() in element[column].lower(): #filtrar por palabra clave \n",
    "        counter+=1\n",
    "#t1_stop = process_time() #tiempo final\n",
    "#print(\"Tiempo de ejecución \",t1_stop-t1_start,\" segundos\")\n",
    "counter\n"
   ]
  },
  {
   "cell_type": "code",
   "execution_count": 33,
   "metadata": {},
   "outputs": [
    {
     "data": {
      "text/plain": [
       "OrderedDict([('id', '2'),\n",
       "             ('nombre', 'Juan Pedro Rodriguez'),\n",
       "             ('telefono', 'Los Montes'),\n",
       "             ('empresa', None)])"
      ]
     },
     "execution_count": 33,
     "metadata": {},
     "output_type": "execute_result"
    }
   ],
   "source": [
    "lst[1]"
   ]
  },
  {
   "cell_type": "code",
   "execution_count": 40,
   "metadata": {},
   "outputs": [
    {
     "data": {
      "text/plain": [
       "list"
      ]
     },
     "execution_count": 40,
     "metadata": {},
     "output_type": "execute_result"
    }
   ],
   "source": [
    "type(lst)"
   ]
  },
  {
   "cell_type": "code",
   "execution_count": 45,
   "metadata": {},
   "outputs": [
    {
     "data": {
      "text/html": [
       "<div>\n",
       "<style scoped>\n",
       "    .dataframe tbody tr th:only-of-type {\n",
       "        vertical-align: middle;\n",
       "    }\n",
       "\n",
       "    .dataframe tbody tr th {\n",
       "        vertical-align: top;\n",
       "    }\n",
       "\n",
       "    .dataframe thead th {\n",
       "        text-align: right;\n",
       "    }\n",
       "</style>\n",
       "<table border=\"1\" class=\"dataframe\">\n",
       "  <thead>\n",
       "    <tr style=\"text-align: right;\">\n",
       "      <th></th>\n",
       "      <th>id</th>\n",
       "      <th>budget</th>\n",
       "      <th>genres</th>\n",
       "      <th>imdb_id</th>\n",
       "      <th>original_language</th>\n",
       "      <th>original_title</th>\n",
       "      <th>overview</th>\n",
       "      <th>popularity</th>\n",
       "      <th>production_companies</th>\n",
       "      <th>production_countries</th>\n",
       "      <th>...</th>\n",
       "      <th>runtime</th>\n",
       "      <th>spoken_languages</th>\n",
       "      <th>status</th>\n",
       "      <th>tagline</th>\n",
       "      <th>title</th>\n",
       "      <th>vote_average</th>\n",
       "      <th>vote_count</th>\n",
       "      <th>production_companies_number</th>\n",
       "      <th>production_countries_number</th>\n",
       "      <th>spoken_languages_number</th>\n",
       "    </tr>\n",
       "  </thead>\n",
       "  <tbody>\n",
       "  </tbody>\n",
       "</table>\n",
       "<p>0 rows × 22 columns</p>\n",
       "</div>"
      ],
      "text/plain": [
       "Empty DataFrame\n",
       "Columns: [id, budget, genres, imdb_id, original_language, original_title, overview, popularity, production_companies, production_countries, release_date, revenue, runtime, spoken_languages, status, tagline, title, vote_average, vote_count, production_companies_number, production_countries_number, spoken_languages_number]\n",
       "Index: []\n",
       "\n",
       "[0 rows x 22 columns]"
      ]
     },
     "execution_count": 45,
     "metadata": {},
     "output_type": "execute_result"
    }
   ],
   "source": [
    "moviesDetails[moviesDetails.duplicated(subset=['id'])]"
   ]
  },
  {
   "cell_type": "code",
   "execution_count": 46,
   "metadata": {},
   "outputs": [
    {
     "data": {
      "text/html": [
       "<div>\n",
       "<style scoped>\n",
       "    .dataframe tbody tr th:only-of-type {\n",
       "        vertical-align: middle;\n",
       "    }\n",
       "\n",
       "    .dataframe tbody tr th {\n",
       "        vertical-align: top;\n",
       "    }\n",
       "\n",
       "    .dataframe thead th {\n",
       "        text-align: right;\n",
       "    }\n",
       "</style>\n",
       "<table border=\"1\" class=\"dataframe\">\n",
       "  <thead>\n",
       "    <tr style=\"text-align: right;\">\n",
       "      <th></th>\n",
       "      <th>id</th>\n",
       "      <th>actor1_name</th>\n",
       "      <th>actor1_gender</th>\n",
       "      <th>actor2_name</th>\n",
       "      <th>actor2_gender</th>\n",
       "      <th>actor3_name</th>\n",
       "      <th>actor3_gender</th>\n",
       "      <th>actor4_name</th>\n",
       "      <th>actor4_gender</th>\n",
       "      <th>actor5_name</th>\n",
       "      <th>actor5_gender</th>\n",
       "      <th>actor_number</th>\n",
       "      <th>director_name</th>\n",
       "      <th>director_gender</th>\n",
       "      <th>director_number</th>\n",
       "      <th>producer_name</th>\n",
       "      <th>producer_number</th>\n",
       "      <th>screeplay_name</th>\n",
       "      <th>editor_name</th>\n",
       "    </tr>\n",
       "  </thead>\n",
       "  <tbody>\n",
       "  </tbody>\n",
       "</table>\n",
       "</div>"
      ],
      "text/plain": [
       "Empty DataFrame\n",
       "Columns: [id, actor1_name, actor1_gender, actor2_name, actor2_gender, actor3_name, actor3_gender, actor4_name, actor4_gender, actor5_name, actor5_gender, actor_number, director_name, director_gender, director_number, producer_name, producer_number, screeplay_name, editor_name]\n",
       "Index: []"
      ]
     },
     "execution_count": 46,
     "metadata": {},
     "output_type": "execute_result"
    }
   ],
   "source": [
    "moviesCasting[moviesCasting.duplicated(subset=['id'])]"
   ]
  },
  {
   "cell_type": "code",
   "execution_count": 49,
   "metadata": {},
   "outputs": [
    {
     "data": {
      "text/plain": [
       "2000"
      ]
     },
     "execution_count": 49,
     "metadata": {},
     "output_type": "execute_result"
    }
   ],
   "source": [
    "dialect = csv.excel()\n",
    "dialect.delimiter=\";\"\n",
    "file =\"test.csv\"\n",
    "lista=[]\n",
    "with open(archivo1, encoding=\"utf-8\") as csvfile:\n",
    "    spamreader = csv.DictReader(csvfile, dialect=dialect)\n",
    "    for row in spamreader:\n",
    "        #print(\"llliisiis row...\", row )\n",
    "        lista.append(row)\n",
    "len(lista)"
   ]
  },
  {
   "cell_type": "code",
   "execution_count": 51,
   "metadata": {},
   "outputs": [
    {
     "data": {
      "text/plain": [
       "OrderedDict([('id', '2'),\n",
       "             ('budget', '0'),\n",
       "             ('genres', 'Drama|Crime'),\n",
       "             ('imdb_id', 'tt0094675'),\n",
       "             ('original_language', 'fi'),\n",
       "             ('original_title', 'Ariel'),\n",
       "             ('overview',\n",
       "              \"Taisto Kasurinen is a Finnish coal miner whose father has just committed suicide and who is framed for a crime he did not commit. In jail, he starts to dream about leaving the country and starting a new life. He escapes from prison but things don't go as planned...\"),\n",
       "             ('popularity', '0.823904'),\n",
       "             ('production_companies', 'Villealfa Filmproduction Oy'),\n",
       "             ('production_countries', 'Finland'),\n",
       "             ('release_date', '21/10/1988'),\n",
       "             ('revenue', '0'),\n",
       "             ('runtime', '69'),\n",
       "             ('spoken_languages', 'suomi'),\n",
       "             ('status', 'Released'),\n",
       "             ('tagline', ''),\n",
       "             ('title', 'Ariel'),\n",
       "             ('vote_average', '7.1'),\n",
       "             ('vote_count', '40'),\n",
       "             ('production_companies_number', '2'),\n",
       "             ('production_countries_number', '1'),\n",
       "             ('spoken_languages_number', '2')])"
      ]
     },
     "execution_count": 51,
     "metadata": {},
     "output_type": "execute_result"
    }
   ],
   "source": [
    "lista[0]"
   ]
  },
  {
   "cell_type": "code",
   "execution_count": 50,
   "metadata": {},
   "outputs": [
    {
     "data": {
      "text/plain": [
       "2000"
      ]
     },
     "execution_count": 50,
     "metadata": {},
     "output_type": "execute_result"
    }
   ],
   "source": [
    "dialect = csv.excel()\n",
    "dialect.delimiter=\";\"\n",
    "file =\"test.csv\"\n",
    "lista2=[]\n",
    "with open(archivo2, encoding=\"utf-8\") as csvfile:\n",
    "    spamreader = csv.DictReader(csvfile, dialect=dialect)\n",
    "    for row in spamreader:\n",
    "        #print(\"llliisiis row...\", row )\n",
    "        lista2.append(row)\n",
    "len(lista2)"
   ]
  },
  {
   "cell_type": "code",
   "execution_count": 53,
   "metadata": {},
   "outputs": [
    {
     "data": {
      "text/plain": [
       "OrderedDict([('id', '2'),\n",
       "             ('actor1_name', 'Turo Pajala'),\n",
       "             ('actor1_gender', '0'),\n",
       "             ('actor2_name', 'Susanna Haavisto'),\n",
       "             ('actor2_gender', '0'),\n",
       "             ('actor3_name', 'Matti Pellonpää'),\n",
       "             ('actor3_gender', '2'),\n",
       "             ('actor4_name', 'Eetu Hilkamo'),\n",
       "             ('actor4_gender', '0'),\n",
       "             ('actor5_name', 'none'),\n",
       "             ('actor5_gender', '0'),\n",
       "             ('actor_number', '4'),\n",
       "             ('director_name', 'Aki Kaurismäki'),\n",
       "             ('director_gender', '0'),\n",
       "             ('director_number', '1'),\n",
       "             ('producer_name', 'none'),\n",
       "             ('producer_number', '0'),\n",
       "             ('screeplay_name', 'Aki Kaurismäki'),\n",
       "             ('editor_name', 'Raija Talvio')])"
      ]
     },
     "execution_count": 53,
     "metadata": {},
     "output_type": "execute_result"
    }
   ],
   "source": [
    "lista2[0]"
   ]
  },
  {
   "cell_type": "code",
   "execution_count": 75,
   "metadata": {},
   "outputs": [
    {
     "data": {
      "text/plain": [
       "329044"
      ]
     },
     "execution_count": 75,
     "metadata": {},
     "output_type": "execute_result"
    }
   ],
   "source": [
    "dialect = csv.excel()\n",
    "dialect.delimiter=\";\"\n",
    "file =\"AllMoviesDetailsCleaned.csv\"\n",
    "fulldata=[]\n",
    "with open(file, encoding=\"utf-8\") as csvfile:\n",
    "    spamreader = csv.DictReader(csvfile, dialect=dialect)\n",
    "    for row in spamreader:\n",
    "        #print(\"llliisiis row...\", row )\n",
    "        fulldata.append(row)\n",
    "len(fulldata)"
   ]
  },
  {
   "cell_type": "code",
   "execution_count": 78,
   "metadata": {},
   "outputs": [
    {
     "data": {
      "text/plain": [
       "OrderedDict([('\\ufeffid', '15'),\n",
       "             ('budget', '839727'),\n",
       "             ('genres', 'Mystery|Drama'),\n",
       "             ('imdb_id', 'tt0033467'),\n",
       "             ('original_language', 'en'),\n",
       "             ('original_title', 'Citizen Kane'),\n",
       "             ('overview',\n",
       "              'Newspaper magnate, Charles Foster Kane is taken from his mother as a boy and made the ward of a rich industrialist. As a result, every well-meaning, tyrannical or self-destructive move he makes for the rest of his life appears in some way to be a reaction to that deeply wounding event.'),\n",
       "             ('popularity', '3.82689'),\n",
       "             ('production_companies', 'RKO Radio Pictures'),\n",
       "             ('production_countries', 'United States of America'),\n",
       "             ('release_date', '30/04/1941'),\n",
       "             ('revenue', '23217674'),\n",
       "             ('runtime', '119'),\n",
       "             ('spoken_languages', 'English'),\n",
       "             ('status', 'Released'),\n",
       "             ('tagline', \"It's Terrific!\"),\n",
       "             ('title', 'Citizen Kane'),\n",
       "             ('vote_average', '7.9'),\n",
       "             ('vote_count', '1110'),\n",
       "             ('production_companies_number', '2'),\n",
       "             ('production_countries_number', '1'),\n",
       "             ('spoken_languages_number', '1')])"
      ]
     },
     "execution_count": 78,
     "metadata": {},
     "output_type": "execute_result"
    }
   ],
   "source": [
    "fulldata[10]"
   ]
  },
  {
   "cell_type": "code",
   "execution_count": 82,
   "metadata": {},
   "outputs": [],
   "source": [
    "def countElementsByCriteria1(criteria, column, lst):\n",
    "    \"\"\"\n",
    "    Retorna la cantidad de elementos que cumplen con un criterio para una columna dada\n",
    "    \"\"\"\n",
    "   \n",
    "\n",
    "    promedio =[]\n",
    "\n",
    "\n",
    "    \n",
    "\n",
    "    \n",
    "    if len(lst)==0:\n",
    "        print(\"La lista esta vacía\")  \n",
    "        return 0\n",
    "    else:\n",
    "        #t1_start = process_time() #tiempo inicial\n",
    "        #counter=0 #Cantidad de repeticiones\n",
    "        for element in lista2: #encontarra los id de peliculas por director\n",
    "            if criteria.lower() in element[column].lower(): #filtrar por palabra clave \n",
    "                id = element[\"id\"]\n",
    "                for elem in lst:    #encontarra las peliculas del director\n",
    "                    if elem[\"id\"] == id:\n",
    "                        if float(elem[\"vote_average\"]) >= 6:\n",
    "                            promedio.append(float(elem[\"vote_average\"]))\n",
    "                            break\n",
    "\n",
    "\n",
    "\n",
    "\n",
    "\n",
    "        #t1_stop = process_time() #tiempo final\n",
    "        #print(\"Tiempo de ejecución \",t1_stop-t1_start,\" segundos\")\n",
    "    return promedio"
   ]
  },
  {
   "cell_type": "code",
   "execution_count": 83,
   "metadata": {},
   "outputs": [
    {
     "data": {
      "text/plain": [
       "[7.1, 7.0, 6.5]"
      ]
     },
     "execution_count": 83,
     "metadata": {},
     "output_type": "execute_result"
    }
   ],
   "source": [
    "l= countElementsByCriteria1(\"Kaurismäki\",\"director_name\",lista)\n",
    "len(l)\n",
    "l"
   ]
  },
  {
   "cell_type": "code",
   "execution_count": 84,
   "metadata": {},
   "outputs": [
    {
     "data": {
      "text/plain": [
       "20.6"
      ]
     },
     "execution_count": 84,
     "metadata": {},
     "output_type": "execute_result"
    }
   ],
   "source": [
    "sum(l)"
   ]
  },
  {
   "cell_type": "code",
   "execution_count": null,
   "metadata": {},
   "outputs": [],
   "source": []
  }
 ],
 "metadata": {
  "kernelspec": {
   "display_name": "Python 3",
   "language": "python",
   "name": "python3"
  },
  "language_info": {
   "codemirror_mode": {
    "name": "ipython",
    "version": 3
   },
   "file_extension": ".py",
   "mimetype": "text/x-python",
   "name": "python",
   "nbconvert_exporter": "python",
   "pygments_lexer": "ipython3",
   "version": "3.7.3"
  }
 },
 "nbformat": 4,
 "nbformat_minor": 2
}
